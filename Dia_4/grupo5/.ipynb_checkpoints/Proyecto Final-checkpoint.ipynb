{
 "cells": [
  {
   "cell_type": "code",
   "execution_count": null,
   "metadata": {
    "collapsed": true
   },
   "outputs": [],
   "source": [
    "import matplotlib.pyplot as plt\n",
    "import pandas as pd\n",
    "import numpy as np\n"
   ]
  },
  {
   "cell_type": "code",
   "execution_count": null,
   "metadata": {
    "collapsed": true
   },
   "outputs": [],
   "source": [
    "historia_temperaturas = pd.read_csv('/home/ec2-user/clubes_de_ciencia/Dia_4/historia_temperaturas.csv')\n",
    "produccion_petroleo = pd.read_csv('/home/ec2-user/clubes_de_ciencia/Dia_4/produccion_petrolio.csv')\n",
    "produccion_petroleo.Date = pd.to_datetime(produccion_petroleo.Date)\n",
    "historia_temperaturas.dt= pd.to_datetime(historia_temperaturas.dt)"
   ]
  },
  {
   "cell_type": "code",
   "execution_count": null,
   "metadata": {
    "collapsed": true
   },
   "outputs": [],
   "source": [
    "historia_temperaturas"
   ]
  }
 ],
 "metadata": {
  "kernelspec": {
   "display_name": "Python 3",
   "language": "python",
   "name": "python3"
  },
  "language_info": {
   "codemirror_mode": {
    "name": "ipython",
    "version": 3
   },
   "file_extension": ".py",
   "mimetype": "text/x-python",
   "name": "python",
   "nbconvert_exporter": "python",
   "pygments_lexer": "ipython3",
   "version": "3.6.1"
  }
 },
 "nbformat": 4,
 "nbformat_minor": 2
}
