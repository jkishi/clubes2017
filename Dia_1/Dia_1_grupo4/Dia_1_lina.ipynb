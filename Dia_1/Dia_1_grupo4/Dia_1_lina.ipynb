{
 "cells": [
  {
   "cell_type": "markdown",
   "metadata": {},
   "source": [
    "## Ipython Notebook\n",
    "\n",
    "Fernando Perez, el Colombiano que creo Ipython una de las interfaces Python mas importantes en el mundo en los ultimos 10 años.\n",
    "\n",
    "https://en.wikipedia.org/wiki/Fernando_P%C3%A9rez_(software_developer)\n",
    "https://pybonacci.es/2013/05/16/entrevista-a-fernando-perez-creador-de-ipython/\n",
    "http://fperez.org/personal.html\n",
    "\n",
    "\n",
    "## Ejemplo de lo que puedes lograr\n",
    "\n",
    "http://nbviewer.jupyter.org/github/glue-viz/example_data_viewers/blob/master/mario/mario.ipynb\n",
    "\n"
   ]
  },
  {
   "cell_type": "markdown",
   "metadata": {},
   "source": [
    "# Opreaciones Matematicas"
   ]
  },
  {
   "cell_type": "markdown",
   "metadata": {},
   "source": [
    "## **Suma** : $2+3$"
   ]
  },
  {
   "cell_type": "code",
   "execution_count": 9,
   "metadata": {},
   "outputs": [
    {
     "data": {
      "text/plain": [
       "25"
      ]
     },
     "execution_count": 9,
     "metadata": {},
     "output_type": "execute_result"
    }
   ],
   "source": [
    "10+15"
   ]
  },
  {
   "cell_type": "markdown",
   "metadata": {},
   "source": [
    "## **Multiplicación**: $2x3$"
   ]
  },
  {
   "cell_type": "code",
   "execution_count": 16,
   "metadata": {},
   "outputs": [
    {
     "data": {
      "text/plain": [
       "54"
      ]
     },
     "execution_count": 16,
     "metadata": {},
     "output_type": "execute_result"
    }
   ],
   "source": [
    "9*6"
   ]
  },
  {
   "cell_type": "markdown",
   "metadata": {},
   "source": [
    "## **División**: $\\frac{2}{3}$"
   ]
  },
  {
   "cell_type": "code",
   "execution_count": 1,
   "metadata": {},
   "outputs": [
    {
     "data": {
      "text/plain": [
       "1.6666666666666667"
      ]
     },
     "execution_count": 1,
     "metadata": {},
     "output_type": "execute_result"
    }
   ],
   "source": [
    "15/9"
   ]
  },
  {
   "cell_type": "markdown",
   "metadata": {},
   "source": [
    "## **Potencia**: $ 2^{3}$"
   ]
  },
  {
   "cell_type": "code",
   "execution_count": 2,
   "metadata": {},
   "outputs": [
    {
     "data": {
      "text/plain": [
       "25"
      ]
     },
     "execution_count": 2,
     "metadata": {},
     "output_type": "execute_result"
    }
   ],
   "source": [
    "5**2"
   ]
  },
  {
   "cell_type": "markdown",
   "metadata": {},
   "source": [
    "## Funciones Trigonometricas\n",
    "\n",
    "En las siguientes celdas vamos a calcular los valores de funciones comunes en nuestras clases de matemáticas.\n",
    "Para esto, necesitamos importar la libreria numpy."
   ]
  },
  {
   "cell_type": "code",
   "execution_count": 3,
   "metadata": {
    "collapsed": true
   },
   "outputs": [],
   "source": [
    "# Importar una libreria en Python\n",
    "import numpy as np # el comando \"as nb\" sirve para asignarle un codigo mas corto a la libreria y ser mas rapido."
   ]
  },
  {
   "cell_type": "code",
   "execution_count": 4,
   "metadata": {},
   "outputs": [
    {
     "data": {
      "text/plain": [
       "-0.99388865392337522"
      ]
     },
     "execution_count": 4,
     "metadata": {},
     "output_type": "execute_result"
    }
   ],
   "source": [
    "np.sin(80)"
   ]
  },
  {
   "cell_type": "code",
   "execution_count": 13,
   "metadata": {},
   "outputs": [
    {
     "data": {
      "text/plain": [
       "0.12832006020245673"
      ]
     },
     "execution_count": 13,
     "metadata": {},
     "output_type": "execute_result"
    }
   ],
   "source": [
    "(np.sin(3))*(np.sin(2))"
   ]
  },
  {
   "cell_type": "markdown",
   "metadata": {},
   "source": [
    "## Logaritmo y Exponencial: $ln(3), e^{3}$"
   ]
  },
  {
   "cell_type": "code",
   "execution_count": 5,
   "metadata": {},
   "outputs": [
    {
     "data": {
      "text/plain": [
       "1.6094379124341003"
      ]
     },
     "execution_count": 5,
     "metadata": {},
     "output_type": "execute_result"
    }
   ],
   "source": [
    "np.log(5)"
   ]
  },
  {
   "cell_type": "code",
   "execution_count": 6,
   "metadata": {},
   "outputs": [
    {
     "data": {
      "text/plain": [
       "7.3890560989306504"
      ]
     },
     "execution_count": 6,
     "metadata": {},
     "output_type": "execute_result"
    }
   ],
   "source": [
    "np.exp(2)"
   ]
  },
  {
   "cell_type": "markdown",
   "metadata": {},
   "source": [
    "## Reto de Programación\n",
    "\n",
    "- Resolver la ecuación \n",
    "$$x^2 - x - 12 = 0$$\n",
    "\n",
    "\n",
    "- Encuentre la hipotenusa y los ángulos del triángulo rectangulo de lados  a = 4 y b = 5"
   ]
  },
  {
   "cell_type": "code",
   "execution_count": 11,
   "metadata": {
    "collapsed": true
   },
   "outputs": [],
   "source": [
    "nombre_1 = \"Brandon\"\n",
    "nombre_2 = \"Juan\"\n",
    "nombre_3 = \"Sofia\""
   ]
  },
  {
   "cell_type": "code",
   "execution_count": 12,
   "metadata": {},
   "outputs": [
    {
     "name": "stdout",
     "output_type": "stream",
     "text": [
      "Juan\n"
     ]
    }
   ],
   "source": [
    "print (nombre_2)"
   ]
  },
  {
   "cell_type": "markdown",
   "metadata": {},
   "source": [
    "# Variables\n",
    "\n",
    "### Una variable es un espacio para guardar valores modificables o constantes.\n",
    "\n",
    "----\n",
    "```python\n",
    "nombre_de_la_variable = valor_de_la_variable\n",
    "```\n",
    "---\n",
    "\n",
    "**Los distintos tipos de variables son:**\n",
    "\n",
    "**Enteros (**`int`**): 1, 2, 3, -10, -103**\n",
    "\n",
    "** Números continuos (**`float`**): 0.666, -10.678**\n",
    "\n",
    "** Cadena de texto (**`str`**): 'clubes', 'clubes de ciencia', 'Roberto'**\n",
    "\n",
    "**Booleano (verdadero / Falso): `True`, `False` **"
   ]
  },
  {
   "cell_type": "markdown",
   "metadata": {},
   "source": [
    "## Variable tipo `int`"
   ]
  },
  {
   "cell_type": "code",
   "execution_count": 21,
   "metadata": {},
   "outputs": [
    {
     "name": "stdout",
     "output_type": "stream",
     "text": [
      "lina nuñez\n"
     ]
    }
   ],
   "source": [
    "b = 'lina nuñez'\n",
    "a ='lina' + '  ' + 'nuñez'\n",
    "print (b)"
   ]
  },
  {
   "cell_type": "markdown",
   "metadata": {},
   "source": [
    "## Variable tipo `float`"
   ]
  },
  {
   "cell_type": "code",
   "execution_count": 28,
   "metadata": {},
   "outputs": [
    {
     "name": "stdout",
     "output_type": "stream",
     "text": [
      "3.5738\n"
     ]
    }
   ],
   "source": [
    "c = 3.5738\n",
    "print (c)"
   ]
  },
  {
   "cell_type": "markdown",
   "metadata": {},
   "source": [
    "## Variable tipo `str`"
   ]
  },
  {
   "cell_type": "code",
   "execution_count": 26,
   "metadata": {},
   "outputs": [
    {
     "name": "stdout",
     "output_type": "stream",
     "text": [
      "clubes de ciencia\n"
     ]
    }
   ],
   "source": [
    "d = 'clubes de ciencia'\n",
    "print (d)"
   ]
  },
  {
   "cell_type": "markdown",
   "metadata": {},
   "source": [
    "## Variable tipo `bool`"
   ]
  },
  {
   "cell_type": "code",
   "execution_count": 24,
   "metadata": {},
   "outputs": [
    {
     "name": "stdout",
     "output_type": "stream",
     "text": [
      "False\n"
     ]
    }
   ],
   "source": [
    "e = False\n",
    "f = True\n",
    "print (e)"
   ]
  },
  {
   "cell_type": "markdown",
   "metadata": {},
   "source": [
    "## Como averiguo el tipo de una variable ??\n",
    "\n",
    "Utilizando la función `type`:\n",
    "\n",
    "```python\n",
    "type(nombre_de_la_variable)\n",
    "```"
   ]
  },
  {
   "cell_type": "code",
   "execution_count": 29,
   "metadata": {},
   "outputs": [
    {
     "name": "stdout",
     "output_type": "stream",
     "text": [
      "<class 'str'>\n",
      "<class 'str'>\n",
      "<class 'float'>\n",
      "<class 'str'>\n",
      "<class 'bool'>\n"
     ]
    }
   ],
   "source": [
    "print (type(a))\n",
    "print (type(b))\n",
    "print (type(c))\n",
    "print (type(d))\n",
    "print (type(e))"
   ]
  },
  {
   "cell_type": "markdown",
   "metadata": {},
   "source": [
    "## Reto de Programación"
   ]
  },
  {
   "cell_type": "code",
   "execution_count": null,
   "metadata": {
    "collapsed": true
   },
   "outputs": [],
   "source": []
  },
  {
   "cell_type": "markdown",
   "metadata": {},
   "source": [
    "# Variables para guardar colecciones de datos\n",
    "\n",
    ">** Python tiene otro 3 tipos de variables mas complejas que pueden almacenar colecciones de datos\n",
    ">como los visotos anteriormente**\n",
    "\n",
    "- Listas\n",
    "- Tuplas\n",
    "- Diccionarios"
   ]
  },
  {
   "cell_type": "markdown",
   "metadata": {},
   "source": [
    "## Listas\n",
    "\n",
    "Las listas permiten guardar colecciones de datos con diferentes tipos:\n",
    "```python\n",
    "int; str; float; bool\n",
    "```\n",
    "Una lista se crea de la siguiente forma:\n",
    "\n",
    "```python\n",
    "nombre_de_la_lista = [valor_1, valor_2, valor_3]\n",
    "```\n",
    "Los valores de la lista pueden ser modificados."
   ]
  },
  {
   "cell_type": "code",
   "execution_count": 88,
   "metadata": {},
   "outputs": [
    {
     "name": "stdout",
     "output_type": "stream",
     "text": [
      "[1, 2, 3, 5, 6, -3.1416]\n",
      "[1, 2, 'clubes', 'de', 'ciencia', 3.1416, False]\n"
     ]
    }
   ],
   "source": [
    "# Ejemplo\n",
    "mi_lista = [1,2,3,5,6,-3.1416]\n",
    "\n",
    "mi_lista_diversa = [1,2,'clubes', 'de', 'ciencia', 3.1416, False]\n",
    "\n",
    "print (mi_lista)\n",
    "print (mi_lista_diversa)"
   ]
  },
  {
   "cell_type": "code",
   "execution_count": 34,
   "metadata": {},
   "outputs": [
    {
     "name": "stdout",
     "output_type": "stream",
     "text": [
      "['brandon', 13, 'juan', 17, 'sofia', 13]\n"
     ]
    }
   ],
   "source": [
    "mis_compañeros = ['brandon', 13, 'juan', 17, 'sofia', 13]\n",
    "print (mis_compañeros)"
   ]
  },
  {
   "cell_type": "code",
   "execution_count": 42,
   "metadata": {},
   "outputs": [
    {
     "name": "stdout",
     "output_type": "stream",
     "text": [
      "274\n"
     ]
    }
   ],
   "source": [
    "numero_1 = '27'\n",
    "palabra = 'clubes de ciencia'\n",
    "numero_2 = '4' \n",
    "#print (numero_1 + palabra) # primer caso \n",
    "print (numero_1 + numero_2) # segundo caso"
   ]
  },
  {
   "cell_type": "markdown",
   "metadata": {},
   "source": [
    "### Como puedo mirar un elemento o elementos de mi lista??\n",
    "Para leer el elemento de la posición `n`, se usa:\n",
    "\n",
    "```python\n",
    "mi_lista[n]\n",
    "```"
   ]
  },
  {
   "cell_type": "code",
   "execution_count": 47,
   "metadata": {},
   "outputs": [],
   "source": [
    "import numpy as np "
   ]
  },
  {
   "cell_type": "code",
   "execution_count": 63,
   "metadata": {},
   "outputs": [
    {
     "name": "stdout",
     "output_type": "stream",
     "text": [
      "<class 'int'>\n",
      "la longitud de mi lista es 7\n"
     ]
    }
   ],
   "source": [
    "# Ejemplo\n",
    "mi_lista = [1,2,3,4,5,6, 'lina']\n",
    "#print (mis_compañeros[3]) # Leer el primer elemento que se encuentra en la posición n=0\n",
    "#print (mi_lista_diversa[1])\n",
    "print (type(mis_compañeros[5])) # Leer el tipo de variable en la posición n=5\n",
    "print ('la longitud de mi lista es ' + str(len(mi_lista)))"
   ]
  },
  {
   "cell_type": "markdown",
   "metadata": {},
   "source": [
    "** Como leer los elementos entre la posición n y m??**\n",
    "```python\n",
    "mi_lista[n:m+1]\n",
    "```"
   ]
  },
  {
   "cell_type": "code",
   "execution_count": 67,
   "metadata": {},
   "outputs": [
    {
     "name": "stdout",
     "output_type": "stream",
     "text": [
      "[1, 2, 3]\n",
      "[1, 2, 3, 4, 5, 6, 'lina']\n"
     ]
    }
   ],
   "source": [
    "#Ejemplo\n",
    "print (mi_lista[0:3]) # Leer entre n=0 y m=2\n",
    "print (mi_lista)"
   ]
  },
  {
   "cell_type": "markdown",
   "metadata": {},
   "source": [
    "## Reto de Programación"
   ]
  },
  {
   "cell_type": "code",
   "execution_count": 74,
   "metadata": {},
   "outputs": [
    {
     "name": "stdout",
     "output_type": "stream",
     "text": [
      "[2, 2, 3, 4, 5, 6, 'lina']\n"
     ]
    }
   ],
   "source": [
    "mi_lista[0]= 2\n",
    "mi_lista[-1] = 'lina'\n",
    "print (mi_lista)"
   ]
  },
  {
   "cell_type": "markdown",
   "metadata": {
    "collapsed": true
   },
   "source": [
    "## Tuplas\n",
    "\n",
    "Las tuplas permiten guardar colecciones de datos de diferentes tipos:\n",
    "```python\n",
    "int; str; float; bool\n",
    "```\n",
    "Una tupla se crea de la siguiente forma:\n",
    "\n",
    "```python\n",
    "mi_tupla = ('cadena de texto', 15, 2.8, 'otro dato', 25)\n",
    "```\n",
    "Los valores de una tupla no pueden ser modificados. Sus elementos se leen como en las listas\n",
    "\n"
   ]
  },
  {
   "cell_type": "code",
   "execution_count": 76,
   "metadata": {},
   "outputs": [
    {
     "name": "stdout",
     "output_type": "stream",
     "text": [
      "('cadena de texto', 15, 2.8, 'otro dato', 25)\n",
      "2.8\n",
      "(2.8, 'otro dato')\n"
     ]
    }
   ],
   "source": [
    "#Ejemplo\n",
    "mi_tupla = ('cadena de texto', 15, 2.8, 'otro dato', 25)\n",
    "print (mi_lista)\n",
    "print (mi_lista[2]) # leer el tercer elemento de la tupla\n",
    "print (mi_lista[2:4]) # leer los dos ultimos elementos de la tupla"
   ]
  },
  {
   "cell_type": "code",
   "execution_count": 81,
   "metadata": {},
   "outputs": [
    {
     "name": "stdout",
     "output_type": "stream",
     "text": [
      "('cadena de texto', 15, 2.8, 'otro dato', 25)\n"
     ]
    }
   ],
   "source": [
    "print (mi_tupla)"
   ]
  },
  {
   "cell_type": "markdown",
   "metadata": {},
   "source": [
    "## Reto de Programación"
   ]
  },
  {
   "cell_type": "code",
   "execution_count": null,
   "metadata": {
    "collapsed": true
   },
   "outputs": [],
   "source": []
  },
  {
   "cell_type": "markdown",
   "metadata": {},
   "source": [
    "## Diccionarios\n",
    "\n",
    "Mientras que en las listas y tuplas se accede a los elementos por un número de indice, en los diccionarios se utilizan claves(numericas ó de texto) para acceder a los elementos. Los elementos guardados en cada clave son de diferentes tipos, incluso listas u otros diccionarios.\n",
    "\n",
    "```python\n",
    "int; str; float; bool, list, dict\n",
    "```\n",
    "Una diccionario se crea de la siguiente forma:\n",
    "\n",
    "```python\n",
    "mi_diccionario = {'grupo_1':4, 'grupo_2':6, 'grupo_3':7, 'grupo_4':3}\n",
    "```\n",
    "Acceder al valor de la clave `grupo_2`:\n",
    "```python\n",
    "print (mi_diccionario['grupo_2'])\n",
    "```\n"
   ]
  },
  {
   "cell_type": "code",
   "execution_count": 93,
   "metadata": {},
   "outputs": [
    {
     "name": "stdout",
     "output_type": "stream",
     "text": [
      "('cadena de texto', 15, 2.8, 'otro dato', 25)\n",
      "[1, 2, 3, 5]\n"
     ]
    }
   ],
   "source": [
    "# Ejemplo 1\n",
    "mi_diccionario = {'grupo_1': mi_lista[0:4], 'grupo_2': mi_tupla, 'grupo_3':mi_diccionario, 'grupo_4':3}\n",
    "print (mi_diccionario['grupo_2'])\n",
    "print (mi_diccionario['grupo_1'])"
   ]
  },
  {
   "cell_type": "code",
   "execution_count": 97,
   "metadata": {},
   "outputs": [
    {
     "name": "stdout",
     "output_type": "stream",
     "text": [
      "Elon\n",
      "45\n"
     ]
    }
   ],
   "source": [
    "# Ejemplo 2 con diferentes tipos de elementos\n",
    "informacion_persona = {'nombres':'Elon', 'apellidos':'Musk', 'edad':45, 'nacionalidad':'Sudafricano',\n",
    "                      'educacion':['Administracion de empresas','Física'],'empresas':['Zip2','PyPal','SpaceX','SolarCity']}\n",
    "\n",
    "print (informacion_persona['nombres'])\n",
    "\n",
    "print (informacion_persona['edad'])"
   ]
  },
  {
   "cell_type": "code",
   "execution_count": 116,
   "metadata": {},
   "outputs": [
    {
     "name": "stdout",
     "output_type": "stream",
     "text": [
      "Lina Brillid\n",
      "Nuñez Varon\n",
      "13\n"
     ]
    }
   ],
   "source": [
    "informacion_persona = {'nombres':'Lina Brillid', 'apellidos':'Nuñez Varon', 'edad':13, 'nacionalidad':'Colombiana',\n",
    "                      'educacion':['Lecto-escritura','Matematicas','Dibujo tecnico'],'empresas':['fumiamerican']}\n",
    "\n",
    "print (informacion_persona['nombres'])\n",
    "\n",
    "print (informacion_persona['apellidos'])\n",
    "\n",
    "print (informacion_persona['edad'])"
   ]
  },
  {
   "cell_type": "markdown",
   "metadata": {},
   "source": [
    "## Reto de Programación"
   ]
  },
  {
   "cell_type": "code",
   "execution_count": 113,
   "metadata": {},
   "outputs": [
    {
     "name": "stdout",
     "output_type": "stream",
     "text": [
      "13\n"
     ]
    }
   ],
   "source": [
    "informacion_persona = {'nombres':'lina'}\n",
    "informacion_persona['edad'] = 13\n",
    "print (informacion_persona['edad'])"
   ]
  },
  {
   "cell_type": "markdown",
   "metadata": {},
   "source": [
    "# Estructuras de control condicionales\n",
    "\n",
    "Las estructuras de control condicionales nos permiten evaluar si una o mas condiciones se cumplen, y respecto a esto\n",
    "ejecutar la siguiente accion.\n",
    "\n",
    "Primero usamos:\n",
    "```python\n",
    "if\n",
    "```\n",
    "Despues algun operador relacional para comparar\n",
    "```python\n",
    "== igual que\n",
    "!= diferente de \n",
    "<  menor que\n",
    ">  mayor que\n",
    "<= menor igual que\n",
    ">= mayor igual que\n",
    "```\n",
    "Cuando se evalua mas de una conición:\n",
    "\n",
    "```python\n",
    "and, & (y)\n",
    "\n",
    "or, | (ó)\n",
    "```"
   ]
  },
  {
   "cell_type": "code",
   "execution_count": 132,
   "metadata": {
    "scrolled": true
   },
   "outputs": [
    {
     "name": "stdout",
     "output_type": "stream",
     "text": [
      "Cruzar la calle\n"
     ]
    }
   ],
   "source": [
    "# Ejemplo\n",
    "color_semaforo = 'verde'\n",
    "\n",
    "if color_semaforo == 'verde':\n",
    "    print (\"Cruzar la calle\")\n",
    "else:\n",
    "    print (\"Esperar\")"
   ]
  },
  {
   "cell_type": "code",
   "execution_count": 128,
   "metadata": {},
   "outputs": [
    {
     "ename": "SyntaxError",
     "evalue": "invalid syntax (<ipython-input-128-0f9db68759c0>, line 1)",
     "output_type": "error",
     "traceback": [
      "\u001b[0;36m  File \u001b[0;32m\"<ipython-input-128-0f9db68759c0>\"\u001b[0;36m, line \u001b[0;32m1\u001b[0m\n\u001b[0;31m    color_semaforo == 'verde':\u001b[0m\n\u001b[0m                              ^\u001b[0m\n\u001b[0;31mSyntaxError\u001b[0m\u001b[0;31m:\u001b[0m invalid syntax\n"
     ]
    }
   ],
   "source": [
    "color_semaforo == 'verde':"
   ]
  },
  {
   "cell_type": "code",
   "execution_count": 133,
   "metadata": {},
   "outputs": [
    {
     "name": "stdout",
     "output_type": "stream",
     "text": [
      "Me levanto antes de las 6:30am\n"
     ]
    }
   ],
   "source": [
    "# ejemplo\n",
    "dia_semana = 'lunes'\n",
    "\n",
    "if dia_semana == 'sabado' or dia_semana == 'domingo':\n",
    "    print ('Me levanto a las 10 de la mañana')\n",
    "else:\n",
    "    print ('Me levanto antes de las 6:30am')"
   ]
  },
  {
   "cell_type": "code",
   "execution_count": 143,
   "metadata": {},
   "outputs": [
    {
     "name": "stdout",
     "output_type": "stream",
     "text": [
      "Pago con tarjeta de débito\n"
     ]
    }
   ],
   "source": [
    "# Ejemplo\n",
    "costo_compra = 500\n",
    "if costo_compra <= 100:\n",
    "    print (\"Pago en efectivo\")\n",
    "elif costo_compra > 100 and costo_compra < 300:\n",
    "    print (\"Pago con tarjeta de débito\")\n",
    "else:\n",
    "    print (\"Pago con tarjeta de crédito\")"
   ]
  },
  {
   "cell_type": "markdown",
   "metadata": {},
   "source": [
    "## Reto de Programación"
   ]
  },
  {
   "cell_type": "code",
   "execution_count": null,
   "metadata": {
    "collapsed": true
   },
   "outputs": [],
   "source": []
  },
  {
   "cell_type": "markdown",
   "metadata": {},
   "source": [
    "# Estructuras de control iterativas(cíclicas o bucles)\n",
    "\n",
    "Estas estructuras nos permiten ejecutar un mismo codigo, de manera repetida, mientras se cumpla una condición.\n",
    "\n",
    "## Bucle While\n",
    "\n",
    "Este bucle ejecuta una misma acción mientras determinada condición se cumpla:\n",
    "\n",
    "```python\n",
    "anio = 2001\n",
    "while anio <= 2012:\n",
    "    print (\"Informes del Año\", str(anio))\n",
    "    anio = anio + 1 # aumentamos anio en 1\n",
    "```\n",
    "En este ejemplo la condición es menor que 2012\n"
   ]
  },
  {
   "cell_type": "code",
   "execution_count": 153,
   "metadata": {},
   "outputs": [
    {
     "name": "stdout",
     "output_type": "stream",
     "text": [
      "Informes de la hora 8\n",
      "Informes de la hora 9\n",
      "Informes de la hora 10\n",
      "Informes de la hora 11\n",
      "Informes de la hora 12\n",
      "Informes de la hora 13\n",
      "Informes de la hora 14\n",
      "Informes de la hora 15\n",
      "Informes de la hora 16\n"
     ]
    }
   ],
   "source": [
    "# ejemplo\n",
    "hora = 8\n",
    "while hora <= 16:\n",
    "    print (\"Informes de la hora\", str(hora))\n",
    "    hora = hora + 1 # aumentamos hora en 1"
   ]
  },
  {
   "cell_type": "code",
   "execution_count": 161,
   "metadata": {},
   "outputs": [
    {
     "name": "stdout",
     "output_type": "stream",
     "text": [
      "faltan 1 minutos\n",
      "faltan 0 minutos\n",
      "faltan -1 minutos\n"
     ]
    }
   ],
   "source": [
    "# ejemplo\n",
    "cuenta = 1\n",
    "while cuenta >= -1:\n",
    "    print ('faltan '+str(cuenta)+' minutos')\n",
    "    cuenta += -1"
   ]
  },
  {
   "cell_type": "markdown",
   "metadata": {},
   "source": [
    "## Reto de Programación"
   ]
  },
  {
   "cell_type": "code",
   "execution_count": null,
   "metadata": {
    "collapsed": true
   },
   "outputs": [],
   "source": []
  },
  {
   "cell_type": "markdown",
   "metadata": {},
   "source": [
    "## Bucle for\n",
    "En Python el bucle for nos permite iterar sobre variables que guardan colecciones de datos, como : tuplas y listas.\n",
    "\n",
    "```python\n",
    "mi_lista = ['Juan', 'Antonio', 'Pedro', 'Herminio']\n",
    "for nombre in mi_lista:\n",
    "    print (nombre)\n",
    "```\n",
    "\n",
    "En el codigo vemos que la orden es ir por cada uno de los elementos de la lista para imprimirlos."
   ]
  },
  {
   "cell_type": "code",
   "execution_count": 13,
   "metadata": {},
   "outputs": [
    {
     "name": "stdout",
     "output_type": "stream",
     "text": [
      "rosa\n",
      "verde\n",
      "celeste\n",
      "amarillo\n"
     ]
    }
   ],
   "source": [
    "# Ejemplo\n",
    "mi_tupla = ('rosa', 'verde', 'celeste', 'amarillo')\n",
    "for color in mi_tupla:\n",
    "    print (color)"
   ]
  },
  {
   "cell_type": "code",
   "execution_count": 14,
   "metadata": {},
   "outputs": [
    {
     "name": "stdout",
     "output_type": "stream",
     "text": [
      "Hoy tengo que ir al colegio\n",
      "Hoy tengo que ir al colegio\n",
      "Hoy tengo que ir al colegio\n",
      "Hoy tengo que ir al colegio\n",
      "Hoy tengo que ir al colegio\n",
      "Hoy seguire aprendiendo de programación\n",
      "Hoy seguire aprendiendo de programación\n"
     ]
    }
   ],
   "source": [
    "# Ejemplo\n",
    "dias_semana = ['lunes','martes','miercoles','jueves','viernes','sabado','domingo']\n",
    "\n",
    "for i in dias_semana:\n",
    "    if (i == dias_semana[-1]) or (i == dias_semana[-2]):\n",
    "        print ('Hoy seguire aprendiendo de programación')\n",
    "    else:\n",
    "        print ('Hoy tengo que ir al colegio')"
   ]
  },
  {
   "cell_type": "markdown",
   "metadata": {},
   "source": [
    "## Reto de Programación"
   ]
  },
  {
   "cell_type": "code",
   "execution_count": null,
   "metadata": {
    "collapsed": true
   },
   "outputs": [],
   "source": []
  }
 ],
 "metadata": {
  "kernelspec": {
   "display_name": "Python 3",
   "language": "python",
   "name": "python3"
  },
  "language_info": {
   "codemirror_mode": {
    "name": "ipython",
    "version": 3
   },
   "file_extension": ".py",
   "mimetype": "text/x-python",
   "name": "python",
   "nbconvert_exporter": "python",
   "pygments_lexer": "ipython3",
   "version": "3.6.1"
  }
 },
 "nbformat": 4,
 "nbformat_minor": 1
}
