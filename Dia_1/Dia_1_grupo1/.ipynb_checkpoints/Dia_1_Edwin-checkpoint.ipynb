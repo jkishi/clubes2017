{
 "cells": [
  {
   "cell_type": "markdown",
   "metadata": {},
   "source": [
    "## Ipython Notebook\n",
    "\n",
    "Fernando Perez, el Colombiano que creo Ipython una de las interfaces Python mas importantes en el mundo en los ultimos 10 años.\n",
    "\n",
    "https://en.wikipedia.org/wiki/Fernando_P%C3%A9rez_(software_developer)\n",
    "https://pybonacci.es/2013/05/16/entrevista-a-fernando-perez-creador-de-ipython/\n",
    "http://fperez.org/personal.html\n",
    "\n",
    "\n",
    "## Ejemplo de lo que puedes lograr\n",
    "\n",
    "http://nbviewer.jupyter.org/github/glue-viz/example_data_viewers/blob/master/mario/mario.ipynb\n",
    "\n"
   ]
  },
  {
   "cell_type": "markdown",
   "metadata": {},
   "source": [
    "# Opreaciones Matematicas"
   ]
  },
  {
   "cell_type": "markdown",
   "metadata": {},
   "source": [
    "## **Suma** : $2+3$"
   ]
  },
  {
   "cell_type": "code",
   "execution_count": 55,
   "metadata": {},
   "outputs": [
    {
     "data": {
      "text/plain": [
       "5"
      ]
     },
     "execution_count": 55,
     "metadata": {},
     "output_type": "execute_result"
    }
   ],
   "source": [
    "2+3"
   ]
  },
  {
   "cell_type": "markdown",
   "metadata": {},
   "source": [
    "## **Multiplicación**: $2x3$"
   ]
  },
  {
   "cell_type": "code",
   "execution_count": 15,
   "metadata": {},
   "outputs": [
    {
     "data": {
      "text/plain": [
       "68"
      ]
     },
     "execution_count": 15,
     "metadata": {},
     "output_type": "execute_result"
    }
   ],
   "source": [
    "2*34"
   ]
  },
  {
   "cell_type": "markdown",
   "metadata": {},
   "source": [
    "## **División**: $\\frac{2}{3}$"
   ]
  },
  {
   "cell_type": "code",
   "execution_count": 3,
   "metadata": {},
   "outputs": [
    {
     "data": {
      "text/plain": [
       "8.666666666666666"
      ]
     },
     "execution_count": 3,
     "metadata": {},
     "output_type": "execute_result"
    }
   ],
   "source": [
    "26/3"
   ]
  },
  {
   "cell_type": "markdown",
   "metadata": {},
   "source": [
    "## **Potencia**: $ 2^{3}$"
   ]
  },
  {
   "cell_type": "code",
   "execution_count": 10,
   "metadata": {},
   "outputs": [
    {
     "data": {
      "text/plain": [
       "25"
      ]
     },
     "execution_count": 10,
     "metadata": {},
     "output_type": "execute_result"
    }
   ],
   "source": [
    "5**2"
   ]
  },
  {
   "cell_type": "markdown",
   "metadata": {},
   "source": [
    "## Funciones Trigonometricas\n",
    "\n",
    "En las siguientes celdas vamos a calcular los valores de funciones comunes en nuestras clases de matemáticas.\n",
    "Para esto, necesitamos importar la libreria numpy."
   ]
  },
  {
   "cell_type": "code",
   "execution_count": 1,
   "metadata": {
    "collapsed": true
   },
   "outputs": [],
   "source": [
    "# Importar una libreria en Python\n",
    "import numpy as np # el comando \"as nb\" sirve para asignarle un codigo mas corto a la libreria y ser mas rapido."
   ]
  },
  {
   "cell_type": "code",
   "execution_count": 2,
   "metadata": {},
   "outputs": [
    {
     "data": {
      "text/plain": [
       "-0.26240394186166388"
      ]
     },
     "execution_count": 2,
     "metadata": {},
     "output_type": "execute_result"
    }
   ],
   "source": [
    "np.sin(305)"
   ]
  },
  {
   "cell_type": "code",
   "execution_count": 3,
   "metadata": {},
   "outputs": [
    {
     "data": {
      "text/plain": [
       "0.12832006020245673"
      ]
     },
     "execution_count": 3,
     "metadata": {},
     "output_type": "execute_result"
    }
   ],
   "source": [
    "(np.sin(3))*(np.sin(2))"
   ]
  },
  {
   "cell_type": "markdown",
   "metadata": {},
   "source": [
    "## Logaritmo y Exponencial: $ln(3), e^{3}$"
   ]
  },
  {
   "cell_type": "code",
   "execution_count": 7,
   "metadata": {},
   "outputs": [
    {
     "data": {
      "text/plain": [
       "1.0986122886681098"
      ]
     },
     "execution_count": 7,
     "metadata": {},
     "output_type": "execute_result"
    }
   ],
   "source": [
    "np.log(3)"
   ]
  },
  {
   "cell_type": "code",
   "execution_count": 8,
   "metadata": {},
   "outputs": [
    {
     "data": {
      "text/plain": [
       "20.085536923187668"
      ]
     },
     "execution_count": 8,
     "metadata": {},
     "output_type": "execute_result"
    }
   ],
   "source": [
    "np.exp(3)"
   ]
  },
  {
   "cell_type": "markdown",
   "metadata": {},
   "source": [
    "## Reto de Programación\n",
    "\n",
    "- Resolver la ecuación \n",
    "$$x^2 - x - 12 = 0$$\n",
    "\n",
    "\n",
    "- Encuentre la hipotenusa y los ángulos del triángulo rectangulo de lados  a = 4 y b = 5"
   ]
  },
  {
   "cell_type": "code",
   "execution_count": 27,
   "metadata": {},
   "outputs": [
    {
     "ename": "SyntaxError",
     "evalue": "invalid syntax (<ipython-input-27-b4ee51bf0f9f>, line 1)",
     "output_type": "error",
     "traceback": [
      "\u001b[0;36m  File \u001b[0;32m\"<ipython-input-27-b4ee51bf0f9f>\"\u001b[0;36m, line \u001b[0;32m1\u001b[0m\n\u001b[0;31m    nombre_1'juan'\u001b[0m\n\u001b[0m                 ^\u001b[0m\n\u001b[0;31mSyntaxError\u001b[0m\u001b[0;31m:\u001b[0m invalid syntax\n"
     ]
    }
   ],
   "source": [
    "nombre_1'juan'\n",
    "nombre_2'paula'\n",
    "nombre_3'edwin'\n",
    "nombre_4'maria'"
   ]
  },
  {
   "cell_type": "code",
   "execution_count": 20,
   "metadata": {},
   "outputs": [
    {
     "ename": "SyntaxError",
     "evalue": "Missing parentheses in call to 'print' (<ipython-input-20-a1337c220817>, line 1)",
     "output_type": "error",
     "traceback": [
      "\u001b[0;36m  File \u001b[0;32m\"<ipython-input-20-a1337c220817>\"\u001b[0;36m, line \u001b[0;32m1\u001b[0m\n\u001b[0;31m    print monbre_1\u001b[0m\n\u001b[0m                 ^\u001b[0m\n\u001b[0;31mSyntaxError\u001b[0m\u001b[0;31m:\u001b[0m Missing parentheses in call to 'print'\n"
     ]
    }
   ],
   "source": []
  },
  {
   "cell_type": "markdown",
   "metadata": {},
   "source": [
    "# Variables\n",
    "\n",
    "### Una variable es un espacio para guardar valores modificables o constantes.\n",
    "\n",
    "----\n",
    "```python\n",
    "nombre_de_la_variable = valor_de_la_variable\n",
    "```\n",
    "---\n",
    "\n",
    "**Los distintos tipos de variables son:**\n",
    "\n",
    "**Enteros (**`int`**): 1, 2, 3, -10, -103**\n",
    "\n",
    "** Números continuos (**`float`**): 0.666, -10.678**\n",
    "\n",
    "** Cadena de texto (**`str`**): 'clubes', 'clubes de ciencia', 'Roberto'**\n",
    "\n",
    "**Booleano (verdadero / Falso): `True`, `False` **"
   ]
  },
  {
   "cell_type": "code",
   "execution_count": 21,
   "metadata": {},
   "outputs": [
    {
     "name": "stdout",
     "output_type": "stream",
     "text": [
      "edwin  balaguera\n"
     ]
    }
   ],
   "source": [
    "# Ejemplo\n",
    "a = 'edwin'+'  '+'balaguera'\n",
    "print (a) # Imprimir mi variable"
   ]
  },
  {
   "cell_type": "markdown",
   "metadata": {},
   "source": [
    "## Variable tipo `int`"
   ]
  },
  {
   "cell_type": "code",
   "execution_count": 23,
   "metadata": {},
   "outputs": [
    {
     "name": "stdout",
     "output_type": "stream",
     "text": [
      "-15\n"
     ]
    }
   ],
   "source": [
    "b = -15\n",
    "print (b)"
   ]
  },
  {
   "cell_type": "markdown",
   "metadata": {},
   "source": [
    "## Variable tipo `float`"
   ]
  },
  {
   "cell_type": "code",
   "execution_count": 24,
   "metadata": {},
   "outputs": [
    {
     "name": "stdout",
     "output_type": "stream",
     "text": [
      "3.1416\n"
     ]
    }
   ],
   "source": [
    "c = 3.1416\n",
    "print (c)"
   ]
  },
  {
   "cell_type": "markdown",
   "metadata": {},
   "source": [
    "## Variable tipo `str`"
   ]
  },
  {
   "cell_type": "code",
   "execution_count": 19,
   "metadata": {},
   "outputs": [
    {
     "name": "stdout",
     "output_type": "stream",
     "text": [
      "clubes de ciencia\n"
     ]
    }
   ],
   "source": [
    "d = 'clubes de ciencia'\n",
    "print (d)"
   ]
  },
  {
   "cell_type": "markdown",
   "metadata": {},
   "source": [
    "## Variable tipo `bool`"
   ]
  },
  {
   "cell_type": "code",
   "execution_count": 26,
   "metadata": {},
   "outputs": [
    {
     "name": "stdout",
     "output_type": "stream",
     "text": [
      "False\n"
     ]
    }
   ],
   "source": [
    "e = True # = verdadero\n",
    "f = False # = falso\n",
    "print (f)"
   ]
  },
  {
   "cell_type": "markdown",
   "metadata": {},
   "source": [
    "## Como averiguo el tipo de una variable ??\n",
    "\n",
    "Utilizando la función `type`:\n",
    "\n",
    "```python\n",
    "type(nombre_de_la_variable)\n",
    "```"
   ]
  },
  {
   "cell_type": "code",
   "execution_count": 30,
   "metadata": {},
   "outputs": [
    {
     "name": "stdout",
     "output_type": "stream",
     "text": [
      "<class 'str'>\n",
      "<class 'int'>\n",
      "<class 'float'>\n"
     ]
    },
    {
     "ename": "NameError",
     "evalue": "name 'd' is not defined",
     "output_type": "error",
     "traceback": [
      "\u001b[0;31m---------------------------------------------------------------------------\u001b[0m",
      "\u001b[0;31mNameError\u001b[0m                                 Traceback (most recent call last)",
      "\u001b[0;32m<ipython-input-30-0cb9df8e9e54>\u001b[0m in \u001b[0;36m<module>\u001b[0;34m()\u001b[0m\n\u001b[1;32m      2\u001b[0m \u001b[0mprint\u001b[0m \u001b[0;34m(\u001b[0m\u001b[0mtype\u001b[0m\u001b[0;34m(\u001b[0m\u001b[0mb\u001b[0m\u001b[0;34m)\u001b[0m\u001b[0;34m)\u001b[0m\u001b[0;34m\u001b[0m\u001b[0m\n\u001b[1;32m      3\u001b[0m \u001b[0mprint\u001b[0m \u001b[0;34m(\u001b[0m\u001b[0mtype\u001b[0m\u001b[0;34m(\u001b[0m\u001b[0mc\u001b[0m\u001b[0;34m)\u001b[0m\u001b[0;34m)\u001b[0m\u001b[0;34m\u001b[0m\u001b[0m\n\u001b[0;32m----> 4\u001b[0;31m \u001b[0mprint\u001b[0m \u001b[0;34m(\u001b[0m\u001b[0mtype\u001b[0m\u001b[0;34m(\u001b[0m\u001b[0md\u001b[0m\u001b[0;34m)\u001b[0m\u001b[0;34m)\u001b[0m\u001b[0;34m\u001b[0m\u001b[0m\n\u001b[0m\u001b[1;32m      5\u001b[0m \u001b[0mprint\u001b[0m \u001b[0;34m(\u001b[0m\u001b[0mtype\u001b[0m\u001b[0;34m(\u001b[0m\u001b[0me\u001b[0m\u001b[0;34m)\u001b[0m\u001b[0;34m)\u001b[0m\u001b[0;34m\u001b[0m\u001b[0m\n",
      "\u001b[0;31mNameError\u001b[0m: name 'd' is not defined"
     ]
    }
   ],
   "source": [
    "print (type(a))\n",
    "print (type(b))\n",
    "print (type(c))\n",
    "print (type(d))\n",
    "print (type(e))"
   ]
  },
  {
   "cell_type": "markdown",
   "metadata": {},
   "source": [
    "## Reto de Programación"
   ]
  },
  {
   "cell_type": "code",
   "execution_count": null,
   "metadata": {
    "collapsed": true
   },
   "outputs": [],
   "source": []
  },
  {
   "cell_type": "markdown",
   "metadata": {},
   "source": [
    "# Variables para guardar colecciones de datos\n",
    "\n",
    ">** Python tiene otro 3 tipos de variables mas complejas que pueden almacenar colecciones de datos\n",
    ">como los visotos anteriormente**\n",
    "\n",
    "- Listas\n",
    "- Tuplas\n",
    "- Diccionarios"
   ]
  },
  {
   "cell_type": "markdown",
   "metadata": {},
   "source": [
    "## Listas\n",
    "\n",
    "Las listas permiten guardar colecciones de datos con diferentes tipos:\n",
    "```python\n",
    "int; str; float; bool\n",
    "```\n",
    "Una lista se crea de la siguiente forma:\n",
    "\n",
    "```python\n",
    "nombre_de_la_lista = [valor_1, valor_2, valor_3]\n",
    "```\n",
    "Los valores de la lista pueden ser modificados."
   ]
  },
  {
   "cell_type": "code",
   "execution_count": 31,
   "metadata": {},
   "outputs": [
    {
     "name": "stdout",
     "output_type": "stream",
     "text": [
      "[1, 2, 3, 5, 6, -3.1416]\n",
      "[1, 2, 'clubes', 'de', 'ciencia', 3.1416, False]\n"
     ]
    }
   ],
   "source": [
    "# Ejemplo\n",
    "mi_lista = [1,2,3,5,6,-3.1416]\n",
    "\n",
    "mi_lista_diversa = [1,2,'clubes', 'de', 'ciencia', 3.1416, False]\n",
    "\n",
    "print (mi_lista)\n",
    "print (mi_lista_diversa)"
   ]
  },
  {
   "cell_type": "code",
   "execution_count": 34,
   "metadata": {},
   "outputs": [
    {
     "name": "stdout",
     "output_type": "stream",
     "text": [
      "['maria', 14, 'edwin', 15, 'juan', 16, 'paula', 14]\n"
     ]
    }
   ],
   "source": [
    "nombre_edad =['maria',14, 'edwin',15, 'juan',16, 'paula',14]\n",
    "print (nombre_edad)"
   ]
  },
  {
   "cell_type": "code",
   "execution_count": null,
   "metadata": {
    "collapsed": true
   },
   "outputs": [],
   "source": [
    "numero_1 = '17'\n",
    "palabra = 'clubes de ciencia'\n",
    "numero_2 = 4\n",
    "print (numero_1 + palabra ) "
   ]
  },
  {
   "cell_type": "markdown",
   "metadata": {},
   "source": [
    "### Como puedo mirar un elemento o elementos de mi lista??\n",
    "Para leer el elemento de la posición `n`, se usa:\n",
    "\n",
    "```python\n",
    "mi_lista[n]\n",
    "```"
   ]
  },
  {
   "cell_type": "code",
   "execution_count": null,
   "metadata": {
    "collapsed": true
   },
   "outputs": [],
   "source": []
  },
  {
   "cell_type": "code",
   "execution_count": null,
   "metadata": {
    "collapsed": true
   },
   "outputs": [],
   "source": [
    "import numpy as np"
   ]
  },
  {
   "cell_type": "code",
   "execution_count": 52,
   "metadata": {
    "scrolled": true
   },
   "outputs": [
    {
     "name": "stdout",
     "output_type": "stream",
     "text": [
      "la longuitud de mi lista es 6\n"
     ]
    }
   ],
   "source": [
    "# Ejemplo\n",
    "mi_lista = [1,2,3,4,5,'edwin']\n",
    "#print (mi_lista[0]) # Leer el primer elemento que se encuentra en la posición n=0\n",
    "#print (mi_lista_diversa[0])\n",
    "#print (type(mi_lista[5])) # Leer el tipo de variable en la posición n=5\n",
    "\n",
    "print ('la longuitud de mi lista es '+ str (len(mi_lista)))"
   ]
  },
  {
   "cell_type": "markdown",
   "metadata": {},
   "source": [
    "** Como leer los elementos entre la posición n y m??**\n",
    "```python\n",
    "mi_lista[n:m+1]\n",
    "```"
   ]
  },
  {
   "cell_type": "code",
   "execution_count": 58,
   "metadata": {},
   "outputs": [
    {
     "name": "stdout",
     "output_type": "stream",
     "text": [
      "[1, 2, 3, 4, 5, 'edwin']\n",
      "[1, 2, 3, 4, 5, 'edwin']\n"
     ]
    }
   ],
   "source": [
    "#Ejemplo\n",
    "print (mi_lista[0:6]) # Leer entre n=0 y m=2\n",
    "print (mi_lista)"
   ]
  },
  {
   "cell_type": "markdown",
   "metadata": {},
   "source": [
    "## Reto de Programación"
   ]
  },
  {
   "cell_type": "code",
   "execution_count": 61,
   "metadata": {},
   "outputs": [
    {
     "name": "stdout",
     "output_type": "stream",
     "text": [
      "[2, 2, 3, 4, 5, 'edwin']\n"
     ]
    }
   ],
   "source": [
    "mi_lista[0] = 2\n",
    "mi_lista[-1] = 'edwin'\n",
    "print (mi_lista)"
   ]
  },
  {
   "cell_type": "markdown",
   "metadata": {
    "collapsed": true
   },
   "source": [
    "## Tuplas\n",
    "\n",
    "Las tuplas permiten guardar colecciones de datos de diferentes tipos:\n",
    "```python\n",
    "int; str; float; bool\n",
    "```\n",
    "Una tupla se crea de la siguiente forma:\n",
    "\n",
    "```python\n",
    "mi_tupla = ('cadena de texto', 15, 2.8, 'otro dato', 25)\n",
    "```\n",
    "Los valores de una tupla no pueden ser modificados. Sus elementos se leen como en las listas\n",
    "\n"
   ]
  },
  {
   "cell_type": "code",
   "execution_count": 79,
   "metadata": {},
   "outputs": [
    {
     "name": "stdout",
     "output_type": "stream",
     "text": [
      "('cadena de texto', 15, 2.8, 'edwin', 25)\n",
      "2.8\n",
      "(2.8, 'edwin')\n"
     ]
    }
   ],
   "source": [
    "#Ejemplo\n",
    "mi_tupla = ('cadena de texto', 15, 2.8, 'edwin', 25)\n",
    "print (mi_tupla)\n",
    "print (mi_tupla[2]) # leer el tercer elemento de la tupla\n",
    "print (mi_tupla[2:4]) # leer los dos ultimos elementos de la tupla"
   ]
  },
  {
   "cell_type": "code",
   "execution_count": 73,
   "metadata": {},
   "outputs": [
    {
     "name": "stdout",
     "output_type": "stream",
     "text": [
      "('cadena de texto', 15, 2.8, 'otro dato', 25)\n"
     ]
    }
   ],
   "source": [
    "\n",
    "print (mi_tupla)"
   ]
  },
  {
   "cell_type": "markdown",
   "metadata": {},
   "source": [
    "## Reto de Programación"
   ]
  },
  {
   "cell_type": "code",
   "execution_count": null,
   "metadata": {
    "collapsed": true
   },
   "outputs": [],
   "source": []
  },
  {
   "cell_type": "code",
   "execution_count": null,
   "metadata": {
    "collapsed": true
   },
   "outputs": [],
   "source": []
  },
  {
   "cell_type": "markdown",
   "metadata": {},
   "source": [
    "## Diccionarios\n",
    "\n",
    "Mientras que en las listas y tuplas se accede a los elementos por un número de indice, en los diccionarios se utilizan claves(numericas ó de texto) para acceder a los elementos. Los elementos guardados en cada clave son de diferentes tipos, incluso listas u otros diccionarios.\n",
    "\n",
    "```python\n",
    "int; str; float; bool, list, dict\n",
    "```\n",
    "Una diccionario se crea de la siguiente forma:\n",
    "\n",
    "```python\n",
    "mi_diccionario = {'grupo_1':4, 'grupo_2':6, 'grupo_3':7, 'grupo_4':3}\n",
    "```\n",
    "Acceder al valor de la clave `grupo_2`:\n",
    "```python\n",
    "print (mi_diccionario['grupo_2'])\n",
    "```\n"
   ]
  },
  {
   "cell_type": "code",
   "execution_count": 80,
   "metadata": {},
   "outputs": [
    {
     "name": "stdout",
     "output_type": "stream",
     "text": [
      "('cadena de texto', 15, 2.8, 'otro dato', 25)\n",
      "('cadena de texto', 15, 2.8, 'edwin', 25)\n",
      "7\n",
      "3\n"
     ]
    }
   ],
   "source": [
    "# Ejemplo 1\n",
    "mi_diccionario = {'grupo_1':mi_lista, 'grupo_2':mi_tupla, 'grupo_3':7, 'grupo_4':3}\n",
    "print (mi_diccionario['grupo_1'])\n",
    "print (mi_diccionario['grupo_2'])\n",
    "print (mi_diccionario['grupo_3'])\n",
    "print (mi_diccionario['grupo_4'])"
   ]
  },
  {
   "cell_type": "code",
   "execution_count": 8,
   "metadata": {},
   "outputs": [
    {
     "name": "stdout",
     "output_type": "stream",
     "text": [
      "['Administracion de empresas', 'Física']\n",
      "['Zip2', 'PyPal', 'SpaceX', 'SolarCity']\n"
     ]
    }
   ],
   "source": [
    "# Ejemplo 2 con diferentes tipos de elementos\n",
    "informacion_persona = {'nombres':'Elon', 'apellidos':'Musk', 'edad':45, 'nacionalidad':'Sudafricano',\n",
    "                      'educacion':['Administracion de empresas','Física'],'empresas':['Zip2','PyPal','SpaceX','SolarCity']}\n",
    "\n",
    "print (informacion_persona['educacion'])\n",
    "\n",
    "print (informacion_persona['empresas'])"
   ]
  },
  {
   "cell_type": "code",
   "execution_count": null,
   "metadata": {
    "collapsed": true
   },
   "outputs": [],
   "source": []
  },
  {
   "cell_type": "markdown",
   "metadata": {},
   "source": [
    "## Reto de Programación"
   ]
  },
  {
   "cell_type": "markdown",
   "metadata": {
    "collapsed": true
   },
   "source": []
  },
  {
   "cell_type": "markdown",
   "metadata": {},
   "source": [
    "# Estructuras de control condicionales\n",
    "\n",
    "Las estructuras de control condicionales nos permiten evaluar si una o mas condiciones se cumplen, y respecto a esto\n",
    "ejecutar la siguiente accion.\n",
    "\n",
    "Primero usamos:\n",
    "```python\n",
    "if\n",
    "```\n",
    "Despues algun operador relacional para comparar\n",
    "```python\n",
    "== igual que\n",
    "!= diferente de \n",
    "<  menor que\n",
    ">  mayor que\n",
    "<= menor igual que\n",
    ">= mayor igual que\n",
    "```\n",
    "Cuando se evalua mas de una conición:\n",
    "\n",
    "```python\n",
    "and, & (y)\n",
    "\n",
    "or, | (ó)\n",
    "```"
   ]
  },
  {
   "cell_type": "code",
   "execution_count": 3,
   "metadata": {},
   "outputs": [
    {
     "name": "stdout",
     "output_type": "stream",
     "text": [
      "Esperar\n"
     ]
    }
   ],
   "source": [
    "# Ejemplo\n",
    "color_semaforo = 'amarillo'\n",
    "if color_semaforo == 'verde':\n",
    "    print (\"Cruzar la calle\")\n",
    "else:\n",
    "    print (\"Esperar\")"
   ]
  },
  {
   "cell_type": "code",
   "execution_count": 8,
   "metadata": {},
   "outputs": [
    {
     "name": "stdout",
     "output_type": "stream",
     "text": [
      "Me levanto antes de las 7am\n"
     ]
    }
   ],
   "source": [
    "# ejemplo\n",
    "dia_semana = 'lunes'\n",
    "\n",
    "if dia_semana == 'sabado' or dia_semana == 'domingo':\n",
    "    print ('Me levanto a las 10 de la mañana')\n",
    "else:\n",
    "    print ('Me levanto antes de las 7am')"
   ]
  },
  {
   "cell_type": "code",
   "execution_count": null,
   "metadata": {
    "collapsed": true
   },
   "outputs": [],
   "source": [
    "# Ejemplo\n",
    "costo_compra = 90\n",
    "if costo_compra <= 100:\n",
    "    print (\"Pago en efectivo\")\n",
    "elif costo_compra > 100 and costo_compra < 300:\n",
    "    print (\"Pago con tarjeta de débito\")\n",
    "else:\n",
    "    print (\"Pago con tarjeta de crédito\")"
   ]
  },
  {
   "cell_type": "markdown",
   "metadata": {},
   "source": [
    "## Reto de Programación"
   ]
  },
  {
   "cell_type": "code",
   "execution_count": null,
   "metadata": {
    "collapsed": true
   },
   "outputs": [],
   "source": []
  },
  {
   "cell_type": "markdown",
   "metadata": {},
   "source": [
    "# Estructuras de control iterativas(cíclicas o bucles)\n",
    "\n",
    "Estas estructuras nos permiten ejecutar un mismo codigo, de manera repetida, mientras se cumpla una condición.\n",
    "\n",
    "## Bucle While\n",
    "\n",
    "Este bucle ejecuta una misma acción mientras determinada condición se cumpla:\n",
    "\n",
    "```python\n",
    "anio = 2001\n",
    "while anio <= 2012:\n",
    "    print (\"Informes del Año\", str(anio))\n",
    "    anio = anio + 1 # aumentamos anio en 1\n",
    "```\n",
    "En este ejemplo la condición es menor que 2012\n"
   ]
  },
  {
   "cell_type": "code",
   "execution_count": 10,
   "metadata": {},
   "outputs": [
    {
     "name": "stdout",
     "output_type": "stream",
     "text": [
      "Informes del Año 2001\n",
      "Informes del Año 2002\n",
      "Informes del Año 2003\n",
      "Informes del Año 2004\n",
      "Informes del Año 2005\n",
      "Informes del Año 2006\n",
      "Informes del Año 2007\n",
      "Informes del Año 2008\n",
      "Informes del Año 2009\n",
      "Informes del Año 2010\n",
      "Informes del Año 2011\n",
      "Informes del Año 2012\n"
     ]
    }
   ],
   "source": [
    "# ejemplo\n",
    "anio = 2001\n",
    "while anio <= 2012:\n",
    "    print (\"Informes del Año\", str(anio))\n",
    "    anio = anio + 1 # aumentamos anio en 1"
   ]
  },
  {
   "cell_type": "code",
   "execution_count": 11,
   "metadata": {},
   "outputs": [
    {
     "name": "stdout",
     "output_type": "stream",
     "text": [
      "faltan 10 minutos\n",
      "faltan 9 minutos\n",
      "faltan 8 minutos\n",
      "faltan 7 minutos\n",
      "faltan 6 minutos\n",
      "faltan 5 minutos\n",
      "faltan 4 minutos\n",
      "faltan 3 minutos\n",
      "faltan 2 minutos\n",
      "faltan 1 minutos\n",
      "faltan 0 minutos\n"
     ]
    }
   ],
   "source": [
    "# ejemplo\n",
    "cuenta = 10\n",
    "while cuenta >= 0:\n",
    "    print ('faltan '+str(cuenta)+' minutos')\n",
    "    cuenta += -1"
   ]
  },
  {
   "cell_type": "markdown",
   "metadata": {},
   "source": [
    "## Reto de Programación"
   ]
  },
  {
   "cell_type": "code",
   "execution_count": null,
   "metadata": {
    "collapsed": true
   },
   "outputs": [],
   "source": []
  },
  {
   "cell_type": "markdown",
   "metadata": {},
   "source": [
    "## Bucle for\n",
    "En Python el bucle for nos permite iterar sobre variables que guardan colecciones de datos, como : tuplas y listas.\n",
    "\n",
    "```python\n",
    "mi_lista = ['Juan', 'Antonio', 'Pedro', 'Herminio']\n",
    "for nombre in mi_lista:\n",
    "    print (nombre)\n",
    "```\n",
    "\n",
    "En el codigo vemos que la orden es ir por cada uno de los elementos de la lista para imprimirlos."
   ]
  },
  {
   "cell_type": "code",
   "execution_count": 13,
   "metadata": {},
   "outputs": [
    {
     "name": "stdout",
     "output_type": "stream",
     "text": [
      "rosa\n",
      "verde\n",
      "celeste\n",
      "amarillo\n"
     ]
    }
   ],
   "source": [
    "# Ejemplo\n",
    "mi_tupla = ('rosa', 'verde', 'celeste', 'amarillo')\n",
    "for color in mi_tupla:\n",
    "    print (color)"
   ]
  },
  {
   "cell_type": "code",
   "execution_count": 14,
   "metadata": {},
   "outputs": [
    {
     "name": "stdout",
     "output_type": "stream",
     "text": [
      "Hoy tengo que ir al colegio\n",
      "Hoy tengo que ir al colegio\n",
      "Hoy tengo que ir al colegio\n",
      "Hoy tengo que ir al colegio\n",
      "Hoy tengo que ir al colegio\n",
      "Hoy seguire aprendiendo de programación\n",
      "Hoy seguire aprendiendo de programación\n"
     ]
    }
   ],
   "source": [
    "# Ejemplo\n",
    "dias_semana = ['lunes','martes','miercoles','jueves','viernes','sabado','domingo']\n",
    "\n",
    "for i in dias_semana:\n",
    "    if (i == dias_semana[-1]) or (i == dias_semana[-2]):\n",
    "        print ('Hoy seguire aprendiendo de programación')\n",
    "    else:\n",
    "        print ('Hoy tengo que ir al colegio')"
   ]
  },
  {
   "cell_type": "markdown",
   "metadata": {},
   "source": [
    "## Reto de Programación"
   ]
  },
  {
   "cell_type": "code",
   "execution_count": null,
   "metadata": {
    "collapsed": true
   },
   "outputs": [],
   "source": []
  }
 ],
 "metadata": {
  "kernelspec": {
   "display_name": "Python 3",
   "language": "python",
   "name": "python3"
  },
  "language_info": {
   "codemirror_mode": {
    "name": "ipython",
    "version": 3
   },
   "file_extension": ".py",
   "mimetype": "text/x-python",
   "name": "python",
   "nbconvert_exporter": "python",
   "pygments_lexer": "ipython3",
   "version": "3.6.1"
  }
 },
 "nbformat": 4,
 "nbformat_minor": 1
}
